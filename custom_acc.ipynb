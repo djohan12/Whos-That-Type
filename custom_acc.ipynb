{
 "cells": [
  {
   "cell_type": "code",
   "execution_count": 2,
   "id": "56a877f3",
   "metadata": {},
   "outputs": [],
   "source": [
    "def custom_accuracy(y_pred, y_primary_test, y_secondary_test, label_encoder_primary, label_encoder_secondary):\n",
    "    correct_count = 0\n",
    "    for i in range(len(y_pred)):\n",
    "        pred_code = y_pred[i]\n",
    "        primary_code = y_primary_test.iloc[i]\n",
    "        secondary_code = y_secondary_test.iloc[i]\n",
    "        \n",
    "        # Decode the predicted integer into a string type (using the primary encoder)\n",
    "        pred_str = label_encoder_primary.inverse_transform([pred_code])[0]\n",
    "        \n",
    "        # Decode the true primary code into a string (also primary encoder)\n",
    "        true_primary_str = label_encoder_primary.inverse_transform([primary_code])[0]\n",
    "        \n",
    "        # Decode the true secondary code into a string (secondary encoder!)\n",
    "        true_secondary_str = label_encoder_secondary.inverse_transform([secondary_code])[0]\n",
    "        \n",
    "        print(f\"Row {i}\")\n",
    "        print(\"  Prediction code :\", pred_code, \"->\", pred_str)\n",
    "        print(\"  True primary code :\", primary_code, \"->\", true_primary_str)\n",
    "        print(\"  True secondary code :\", secondary_code, \"->\", true_secondary_str)\n",
    "        \n",
    "        # Compare as strings\n",
    "        if pred_str == true_primary_str or pred_str == true_secondary_str:\n",
    "            print(\"  => MATCH!\")\n",
    "            correct_count += 1\n",
    "        else:\n",
    "            print(\"  => NO MATCH\")\n",
    "        print()\n",
    "\n",
    "    custom_accuracy = correct_count / len(y_pred)\n",
    "    print(\"Custom Accuracy (either label counts):\", custom_accuracy)"
   ]
  },
  {
   "cell_type": "code",
   "execution_count": null,
   "id": "3e9e8c61",
   "metadata": {},
   "outputs": [],
   "source": []
  }
 ],
 "metadata": {
  "kernelspec": {
   "display_name": "Python 3",
   "language": "python",
   "name": "python3"
  },
  "language_info": {
   "codemirror_mode": {
    "name": "ipython",
    "version": 3
   },
   "file_extension": ".py",
   "mimetype": "text/x-python",
   "name": "python",
   "nbconvert_exporter": "python",
   "pygments_lexer": "ipython3",
   "version": "3.11.4"
  }
 },
 "nbformat": 4,
 "nbformat_minor": 5
}
