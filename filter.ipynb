{
 "cells": [
  {
   "cell_type": "markdown",
   "metadata": {},
   "source": [
    "# Data Cleaning\n",
    "\n",
    "* Formatting data into readable formats\n",
    "* Removing unnecessary features"
   ]
  },
  {
   "cell_type": "code",
   "execution_count": 91,
   "metadata": {},
   "outputs": [],
   "source": [
    "import csv\n",
    "import pandas as pd\n",
    "\n",
    "\n",
    "df = pd.read_csv('Pokemon Database.csv')\n",
    "\n",
    "\n",
    "df[\"Alternate Form Name\"] = df[\"Alternate Form Name\"].replace({\n",
    "    \"Hisui\": \"Hisuian\",\n",
    "    \"Alola\": \"Alolan\",\n",
    "    \"Galar\": \"Galarian\"\n",
    "})    \n",
    "df=df[df[\"Alternate Form Name\"]!=\"Gigantamax\"]\n",
    "\n",
    "for index, pokemon in df.iterrows():\n",
    "    for column in df.columns:\n",
    "        if isinstance(pokemon[column],str):\n",
    "            df.at[index, column] = pokemon[column][1:-1] \n",
    "    if pd.isna(pokemon[\"Secondary Type\"]):\n",
    "        df.at[index, \"Secondary Type\"] = pokemon[\"Primary Type\"][1:-1]     \n",
    "      \n",
    "    alternate_form = pokemon['Alternate Form Name']\n",
    "    if not pd.isna(alternate_form) and isinstance(alternate_form,str):\n",
    "        if alternate_form==\"Mega X\" or alternate_form == \"Mega Y\":\n",
    "            df.at[index,\"Pokemon Name\"] = f\"Mega {df.at[index,\"Pokemon Name\"]} {alternate_form[-1]}\"\n",
    "        elif pokemon[\"Pokemon Name\"] in [\"Unown\", \"Hoopa\"]:\n",
    "            df.at[index,\"Pokemon Name\"] = f\"{df.at[index,\"Pokemon Name\"]} {alternate_form}\"\n",
    "        else:\n",
    "            df.at[index,\"Pokemon Name\"] = f\"{alternate_form} {df.at[index,\"Pokemon Name\"]}\"\n",
    "            \n",
    "df = df.drop(columns=[\"Pokemon Id\", \"Classification\", \"Alternate Form Name\", \"Primary Ability\", \"Primary Ability Description\", \n",
    "                      \"Secondary Ability\", \"Secondary Ability Description\", \"Hidden Ability\", \"Hidden Ability Description\",\n",
    "                      \"Special Event Ability\", \"Special Event Ability Description\", \"Game(s) of Origin\", \"Experience Growth\", \n",
    "                      \"Primary Egg Group\", \"Secondary Egg Group\", \"Pre-Evolution Pokemon Id\", \"Evolution Details\"])\n",
    "\n",
    "df.to_csv('Processed Data.csv')\n"
   ]
  },
  {
   "cell_type": "code",
   "execution_count": null,
   "metadata": {},
   "outputs": [],
   "source": []
  }
 ],
 "metadata": {
  "kernelspec": {
   "display_name": "Python 3",
   "language": "python",
   "name": "python3"
  },
  "language_info": {
   "codemirror_mode": {
    "name": "ipython",
    "version": 3
   },
   "file_extension": ".py",
   "mimetype": "text/x-python",
   "name": "python",
   "nbconvert_exporter": "python",
   "pygments_lexer": "ipython3",
   "version": "3.12.0"
  }
 },
 "nbformat": 4,
 "nbformat_minor": 2
}
