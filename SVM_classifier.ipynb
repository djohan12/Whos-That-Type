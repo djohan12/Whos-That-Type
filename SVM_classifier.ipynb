{
 "cells": [
  {
   "cell_type": "markdown",
   "metadata": {},
   "source": [
    "**Libraries/Imports**"
   ]
  },
  {
   "cell_type": "code",
   "execution_count": 7,
   "metadata": {},
   "outputs": [],
   "source": [
    "import pandas as pd\n",
    "import numpy as np\n",
    "from sklearn.preprocessing import StandardScaler, OneHotEncoder\n",
    "\n"
   ]
  },
  {
   "cell_type": "markdown",
   "metadata": {},
   "source": [
    "**Pre-Processing Data**"
   ]
  },
  {
   "cell_type": "code",
   "execution_count": 18,
   "metadata": {},
   "outputs": [
    {
     "name": "stdout",
     "output_type": "stream",
     "text": [
      "27\n"
     ]
    }
   ],
   "source": [
    "# Load processed data from CSV\n",
    "pokemon_data = pd.read_csv('processed_data.csv')\n",
    "\n",
    "# Get all typings\n",
    "index = 0\n",
    "typings = {}\n",
    "for i, pokemon in pokemon_data.iterrows():\n",
    "    if pokemon['Primary Type'] not in typings:\n",
    "        typings[pokemon['Primary Type']] = index\n",
    "        index += 1\n",
    "\n",
    "typings['NULL'] = index # 19 total indexes (18 total Pokemon types + NULL --> no secondary typing)\n",
    "# print(typings)\n",
    "\n",
    "# Change all typings in dataset into respective index number\n",
    "pokemon_data['Primary Type'] = pokemon_data['Primary Type'].map(typings)\n",
    "pokemon_data['Secondary Type'] = pokemon_data['Secondary Type'].map(typings)\n",
    "\n",
    "# Use One Hot Encoding to Encode Data ()\n",
    "encoder = OneHotEncoder(sparse_output=False)\n",
    "\n",
    "print(pokemon_data.shape[1])"
   ]
  },
  {
   "cell_type": "markdown",
   "metadata": {},
   "source": []
  }
 ],
 "metadata": {
  "kernelspec": {
   "display_name": "Python 3",
   "language": "python",
   "name": "python3"
  },
  "language_info": {
   "codemirror_mode": {
    "name": "ipython",
    "version": 3
   },
   "file_extension": ".py",
   "mimetype": "text/x-python",
   "name": "python",
   "nbconvert_exporter": "python",
   "pygments_lexer": "ipython3",
   "version": "3.12.4"
  }
 },
 "nbformat": 4,
 "nbformat_minor": 2
}
