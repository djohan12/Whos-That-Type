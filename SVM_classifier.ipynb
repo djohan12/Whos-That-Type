{
 "cells": [
  {
   "cell_type": "markdown",
   "metadata": {},
   "source": [
    "**Libraries/Imports**"
   ]
  },
  {
   "cell_type": "code",
   "execution_count": 68,
   "metadata": {},
   "outputs": [],
   "source": [
    "import pandas as pd\n",
    "import numpy as np\n",
    "from sklearn.preprocessing import StandardScaler, OneHotEncoder\n",
    "from sklearn.compose import ColumnTransformer\n",
    "from sklearn.model_selection import train_test_split\n",
    "from sklearn.svm import SVC\n",
    "from sklearn.metrics import classification_report\n"
   ]
  },
  {
   "cell_type": "markdown",
   "metadata": {},
   "source": [
    "**Data Preprocessing**"
   ]
  },
  {
   "cell_type": "code",
   "execution_count": 64,
   "metadata": {},
   "outputs": [
    {
     "name": "stdout",
     "output_type": "stream",
     "text": [
      "(1350, 34)\n"
     ]
    }
   ],
   "source": [
    "import pandas as pd\n",
    "from sklearn.preprocessing import StandardScaler, LabelEncoder, OneHotEncoder\n",
    "from sklearn.compose import ColumnTransformer\n",
    "\n",
    "# Reading in raw Pokemon Database.csv\n",
    "raw = pd.read_csv('Pokemon Database.csv')\n",
    "\n",
    "# Cleaning string values\n",
    "for index, pokemon in raw.iterrows():\n",
    "    for column in raw.columns:\n",
    "        if isinstance(pokemon[column], str):\n",
    "            raw.at[index, column] = pokemon[column][1:-1]\n",
    "\n",
    "# Converting Alternate Form Name to Correct Names\n",
    "raw[\"Alternate Form Name\"] = raw[\"Alternate Form Name\"].replace({\n",
    "    \"Hisui\": \"Hisuian\",\n",
    "    \"Alola\": \"Alolan\",\n",
    "    \"Galar\": \"Galarian\"\n",
    "})    \n",
    "\n",
    "# Updating Pokemon Names and Handling Missing Values\n",
    "for index, pokemon in raw.iterrows():\n",
    "    if pd.isna(pokemon['Legendary Type']):\n",
    "        raw.at[index, \"Legendary Type\"] = \"Regular\"\n",
    "    if pd.isna(pokemon[\"Secondary Type\"]):\n",
    "        raw.at[index, \"Secondary Type\"] = pokemon[\"Primary Type\"]     \n",
    "    alternate_form = pokemon['Alternate Form Name']\n",
    "    if not pd.isna(alternate_form) and isinstance(alternate_form, str):\n",
    "        if alternate_form in [\"Mega X\", \"Mega Y\"]:\n",
    "            raw.at[index, \"Pokemon Name\"] = f\"Mega {raw.at[index, 'Pokemon Name']} {alternate_form[-1]}\"\n",
    "        elif pokemon[\"Pokemon Name\"] in [\"Unown\", \"Hoopa\"]:\n",
    "            raw.at[index, \"Pokemon Name\"] = f\"{raw.at[index, 'Pokemon Name']} {alternate_form}\"\n",
    "        else:\n",
    "            raw.at[index, \"Pokemon Name\"] = f\"{alternate_form} {raw.at[index, 'Pokemon Name']}\"\n",
    "\n",
    "# Selecting Relevant Columns\n",
    "relevant = raw[['Pokemon Id', 'Pokedex Number', 'Pokemon Name',\n",
    "       'Alternate Form Name', 'Original Pokemon ID', 'Legendary Type',\n",
    "       'Pokemon Height', 'Pokemon Weight', 'Primary Type', 'Secondary Type', \n",
    "       'Male Ratio', 'Female Ratio', 'Base Happiness', 'Health Stat', 'Attack Stat',\n",
    "       'Defense Stat', 'Special Attack Stat', 'Special Defense Stat',\n",
    "       'Speed Stat', 'Base Stat Total', 'Health EV', 'Attack EV', 'Defense EV',\n",
    "       'Special Attack EV', 'Special Defense EV', 'Speed EV', 'EV Yield Total',\n",
    "       'Catch Rate', 'Experience Growth', 'Experience Growth Total', 'Egg Cycle Count']]\n",
    "\n",
    "# Remove Gigantamax Forms\n",
    "relevant = relevant.loc[relevant['Alternate Form Name'] != 'Gigantamax']\n",
    "relevant = relevant.reset_index()\n",
    "\n",
    "# Define Features for Transformation\n",
    "features = ['Legendary Type', 'Pokemon Height', 'Pokemon Weight', 'Primary Type', 'Secondary Type',\n",
    "            'Male Ratio', 'Female Ratio', 'Base Happiness', 'Health Stat', 'Attack Stat', 'Defense Stat', \n",
    "            'Special Attack Stat', 'Special Defense Stat', 'Speed Stat', 'Base Stat Total', 'Health EV', \n",
    "            'Attack EV', 'Defense EV', 'Special Attack EV', 'Special Defense EV', 'Speed EV', \n",
    "            'EV Yield Total', 'Catch Rate', 'Experience Growth', 'Experience Growth Total', 'Egg Cycle Count'] \n",
    "\n",
    "# Define Numerical Features\n",
    "numerical_features = [col for col in features if col not in ['Legendary Type', 'Experience Growth', 'Primary Type', 'Secondary Type']]\n",
    "\n",
    "# Apply Label Encoding to Typings (For Classification)\n",
    "label_encoder_primary = LabelEncoder()\n",
    "label_encoder_secondary = LabelEncoder()\n",
    "\n",
    "relevant['Primary Typing Label'] = label_encoder_primary.fit_transform(relevant['Primary Type'])\n",
    "relevant['Secondary Typing Label'] = label_encoder_secondary.fit_transform(relevant['Secondary Type'])\n",
    "\n",
    "# Define One-Hot Encoding for Categorical Features, Scaling Values\n",
    "categorical_features = ['Legendary Type', 'Experience Growth']\n",
    "transformer = ColumnTransformer([\n",
    "    ('num', StandardScaler(), numerical_features),  \n",
    "    ('cat', OneHotEncoder(handle_unknown='ignore'), categorical_features)  \n",
    "])\n",
    "\n",
    "# Apply Transformations\n",
    "transformed = transformer.fit_transform(relevant[features])\n",
    "encoded_feature_names = transformer.get_feature_names_out()\n",
    "\n",
    "# Convert to DataFrame\n",
    "processed = pd.DataFrame(transformed, columns=encoded_feature_names)\n",
    "\n",
    "# Add Primary & Secondary Typing Labels\n",
    "processed['Primary Typing Label'] = relevant['Primary Typing Label']\n",
    "processed['Secondary Typing Label'] = relevant['Secondary Typing Label']\n",
    "\n",
    "# Save Processed Data\n",
    "print(processed.shape)\n",
    "processed.to_csv('processed_data.csv', index=False)"
   ]
  },
  {
   "cell_type": "markdown",
   "metadata": {},
   "source": [
    "**SVM Model**"
   ]
  },
  {
   "cell_type": "code",
   "execution_count": 69,
   "metadata": {},
   "outputs": [
    {
     "name": "stdout",
     "output_type": "stream",
     "text": [
      "              precision    recall  f1-score   support\n",
      "\n",
      "           0       0.50      0.38      0.43        26\n",
      "           1       0.00      0.00      0.00        16\n",
      "           2       0.36      0.56      0.43         9\n",
      "           3       0.36      0.31      0.33        13\n",
      "           4       0.89      0.67      0.76        12\n",
      "           5       0.25      0.22      0.24         9\n",
      "           6       0.43      0.23      0.30        13\n",
      "           8       0.14      0.14      0.14         7\n",
      "           9       0.21      0.35      0.27        17\n",
      "          10       0.10      0.12      0.11         8\n",
      "          11       0.00      0.00      0.00         9\n",
      "          12       0.37      0.91      0.53        32\n",
      "          13       0.00      0.00      0.00        11\n",
      "          14       0.59      0.45      0.51        22\n",
      "          15       0.88      0.29      0.44        24\n",
      "          16       0.60      0.55      0.57        11\n",
      "          17       0.23      0.32      0.27        31\n",
      "\n",
      "    accuracy                           0.38       270\n",
      "   macro avg       0.35      0.32      0.31       270\n",
      "weighted avg       0.39      0.38      0.35       270\n",
      "\n"
     ]
    },
    {
     "name": "stderr",
     "output_type": "stream",
     "text": [
      "/Library/Frameworks/Python.framework/Versions/3.12/lib/python3.12/site-packages/sklearn/utils/validation.py:1339: DataConversionWarning: A column-vector y was passed when a 1d array was expected. Please change the shape of y to (n_samples, ), for example using ravel().\n",
      "  y = column_or_1d(y, warn=True)\n",
      "/Library/Frameworks/Python.framework/Versions/3.12/lib/python3.12/site-packages/sklearn/metrics/_classification.py:1531: UndefinedMetricWarning: Precision is ill-defined and being set to 0.0 in labels with no predicted samples. Use `zero_division` parameter to control this behavior.\n",
      "  _warn_prf(average, modifier, f\"{metric.capitalize()} is\", len(result))\n",
      "/Library/Frameworks/Python.framework/Versions/3.12/lib/python3.12/site-packages/sklearn/metrics/_classification.py:1531: UndefinedMetricWarning: Precision is ill-defined and being set to 0.0 in labels with no predicted samples. Use `zero_division` parameter to control this behavior.\n",
      "  _warn_prf(average, modifier, f\"{metric.capitalize()} is\", len(result))\n",
      "/Library/Frameworks/Python.framework/Versions/3.12/lib/python3.12/site-packages/sklearn/metrics/_classification.py:1531: UndefinedMetricWarning: Precision is ill-defined and being set to 0.0 in labels with no predicted samples. Use `zero_division` parameter to control this behavior.\n",
      "  _warn_prf(average, modifier, f\"{metric.capitalize()} is\", len(result))\n"
     ]
    }
   ],
   "source": [
    "# Defining Features and Labels Matricies\n",
    "X = processed.drop(columns=['Primary Typing Label', 'Secondary Typing Label'])\n",
    "y = processed[['Primary Typing Label']]\n",
    "\n",
    "# Split into training and test data\n",
    "X_train, X_test, y_train, y_test = train_test_split(X, y, test_size=0.2, random_state=42)\n",
    "\n",
    "# Declare Classifier and Train\n",
    "classifier = SVC(kernel='rbf', decision_function_shape='ovr')  # 'ovo' also works\n",
    "classifier.fit(X_train, y_train)\n",
    "\n",
    "# Predict\n",
    "y_pred = classifier.predict(X_test)\n",
    "\n",
    "# Classification Report\n",
    "print(classification_report(y_test, y_pred))"
   ]
  }
 ],
 "metadata": {
  "kernelspec": {
   "display_name": "Python 3",
   "language": "python",
   "name": "python3"
  },
  "language_info": {
   "codemirror_mode": {
    "name": "ipython",
    "version": 3
   },
   "file_extension": ".py",
   "mimetype": "text/x-python",
   "name": "python",
   "nbconvert_exporter": "python",
   "pygments_lexer": "ipython3",
   "version": "3.12.4"
  }
 },
 "nbformat": 4,
 "nbformat_minor": 2
}
