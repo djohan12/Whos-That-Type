{
 "cells": [
  {
   "cell_type": "markdown",
   "metadata": {},
   "source": [
    "# Data Cleaning\n",
    "\n",
    "* Formatting data into readable formats\n",
    "* Removing unnecessary features"
   ]
  },
  {
   "cell_type": "code",
   "execution_count": 13,
   "metadata": {},
   "outputs": [],
   "source": [
    "import numpy as np\n",
    "import pandas as pd\n",
    "import matplotlib.pyplot as plt\n",
    "from sklearn.tree import DecisionTreeClassifier, plot_tree\n",
    "from sklearn.naive_bayes import GaussianNB\n",
    "from sklearn.ensemble import RandomForestClassifier, AdaBoostClassifier\n",
    "from sklearn.svm import SVC\n",
    "from sklearn.multiclass import OneVsRestClassifier\n",
    "from sklearn.neural_network import MLPClassifier\n",
    "from sklearn.metrics import accuracy_score, precision_score, recall_score, f1_score,  confusion_matrix, classification_report\n",
    "from sklearn.preprocessing import StandardScaler, MultiLabelBinarizer, OneHotEncoder\n",
    "from sklearn.model_selection import train_test_split\n",
    "from sklearn.compose import ColumnTransformer\n",
    "\n",
    "\n"
   ]
  },
  {
   "cell_type": "code",
   "execution_count": 11,
   "metadata": {},
   "outputs": [],
   "source": [
    "import csv\n",
    "import pandas as pd\n",
    "\n",
    "\n",
    "data = pd.read_csv('Pokemon Database.csv')\n",
    "\n",
    "\n",
    "for index, pokemon in data.iterrows():\n",
    "    for column in data.columns:\n",
    "        if isinstance(pokemon[column],str):\n",
    "            data.at[index, column] = pokemon[column][1:-1] \n",
    "            \n",
    "\n",
    "data[\"Alternate Form Name\"] = data[\"Alternate Form Name\"].replace({\n",
    "    \"Hisui\": \"Hisuian\",\n",
    "    \"Alola\": \"Alolan\",\n",
    "    \"Galar\": \"Galarian\"\n",
    "})    \n",
    "data=data[data[\"Alternate Form Name\"]!=\"Gigantamax\"]\n",
    "            \n",
    "for index, pokemon in data.iterrows():\n",
    "    if pd.isna(pokemon['Legendary Type']):\n",
    "        data.at[index,\"Legendary Type\"] = \"Regular\"\n",
    "    if pd.isna(pokemon[\"Secondary Type\"]):\n",
    "        data.at[index, \"Secondary Type\"] = pokemon[\"Primary Type\"]     \n",
    "    alternate_form = pokemon['Alternate Form Name']\n",
    "    if not pd.isna(alternate_form) and isinstance(alternate_form,str):\n",
    "        if alternate_form==\"Mega X\" or alternate_form == \"Mega Y\":\n",
    "            data.at[index,\"Pokemon Name\"] = f\"Mega {data.at[index,\"Pokemon Name\"]} {alternate_form[-1]}\"\n",
    "        elif pokemon[\"Pokemon Name\"] in [\"Unown\", \"Hoopa\"]:\n",
    "            data.at[index,\"Pokemon Name\"] = f\"{data.at[index,\"Pokemon Name\"]} {alternate_form}\"\n",
    "        else:\n",
    "            data.at[index,\"Pokemon Name\"] = f\"{alternate_form} {data.at[index,\"Pokemon Name\"]}\"\n",
    " \n",
    "columns = ['Pokedex Number', 'Pokemon Name', 'Legendary Type', 'Pokemon Height', 'Pokemon Weight', \n",
    "            'Primary Type','Secondary Type', 'Male Ratio', 'Female Ratio', 'Base Happiness','Health Stat', \n",
    "            'Attack Stat', 'Defense Stat', 'Special Attack Stat', 'Special Defense Stat', 'Speed Stat', \n",
    "            'Base Stat Total', 'Health EV', 'Attack EV', 'Defense EV', 'Special Attack EV', 'Special Defense EV', \n",
    "            'Speed EV', 'EV Yield Total', 'Catch Rate', 'Experience Growth', 'Experience Growth Total','Egg Cycle Count']    \n",
    "        \n",
    "data = data[columns]\n",
    "data.to_csv('Processed Data.csv')\n",
    "\n"
   ]
  },
  {
   "cell_type": "code",
   "execution_count": null,
   "metadata": {},
   "outputs": [],
   "source": [
    "features = ['Legendary Type', 'Pokemon Height', 'Pokemon Weight', 'Male Ratio', 'Female Ratio', 'Base Happiness',\n",
    "            'Health Stat', 'Attack Stat', 'Defense Stat', 'Special Attack Stat', 'Special Defense Stat', 'Speed Stat', \n",
    "            'Base Stat Total', 'Health EV', 'Attack EV', 'Defense EV', 'Special Attack EV', 'Special Defense EV', \n",
    "            'Speed EV', 'EV Yield Total', 'Catch Rate', 'Experience Growth', 'Experience Growth Total','Egg Cycle Count']    \n",
    "\n",
    "categorical_features = ['Legendary Type', \"Experience Growth\"]  \n",
    "numerical_features = [col for col in features if col not in categorical_features]\n",
    "\n",
    "transformer = ColumnTransformer([\n",
    "    ('num', StandardScaler(), numerical_features),  \n",
    "    ('cat', OneHotEncoder(handle_unknown='ignore'), categorical_features)  \n",
    "])\n",
    "\n",
    "data_transformed = transformer.fit_transform(data[features])\n",
    "encoded = transformer.get_feature_names_out()\n",
    " "
   ]
  }
 ],
 "metadata": {
  "kernelspec": {
   "display_name": "base",
   "language": "python",
   "name": "python3"
  },
  "language_info": {
   "codemirror_mode": {
    "name": "ipython",
    "version": 3
   },
   "file_extension": ".py",
   "mimetype": "text/x-python",
   "name": "python",
   "nbconvert_exporter": "python",
   "pygments_lexer": "ipython3",
   "version": "3.12.4"
  }
 },
 "nbformat": 4,
 "nbformat_minor": 2
}
